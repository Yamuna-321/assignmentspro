{
 "cells": [
  {
   "cell_type": "markdown",
   "id": "9176082a-2d0c-4bd9-97ca-78a4ea3a9852",
   "metadata": {},
   "source": [
    "TOPIC: Python Basics Variable"
   ]
  },
  {
   "cell_type": "markdown",
   "id": "fb0ba938-f58d-4724-b150-0e1493d8907f",
   "metadata": {},
   "source": [
    "1. Declare two variables, `x` and `y`, and assign them integer values. Swap the\n",
    "values of these variables without using any temporary variable."
   ]
  },
  {
   "cell_type": "code",
   "execution_count": 1,
   "id": "28f83d64-6e0e-48d7-821d-31ab9632299b",
   "metadata": {},
   "outputs": [
    {
     "name": "stdout",
     "output_type": "stream",
     "text": [
      "x= 9\n",
      "y= 10\n"
     ]
    }
   ],
   "source": [
    "x = 10           #declaring variable x = 10\n",
    "y = 9            #declaring variable y = 9\n",
    "x = x + y        # adding the values of x and y and assigning to x: 'x=x+y' (x=10+9=19)\n",
    "y = x - y        # subtracting original value of y from the new value of x and assign it to y:'y=x-y' (y=19-9=10)\n",
    "x = x - y        # here subtracting new value of y from new value of x\n",
    "\n",
    "print ('x=',x)\n",
    "print ('y=',y)"
   ]
  },
  {
   "cell_type": "markdown",
   "id": "57929f9d-92c4-4c51-bd29-b763a9c6119d",
   "metadata": {},
   "source": [
    "2. Create a program that calculates the area of a rectangle. Take the length and\n",
    "width as inputs from the user and store them in variables. Calculate and\n",
    "display the area."
   ]
  },
  {
   "cell_type": "code",
   "execution_count": 2,
   "id": "81d6581f-80e5-46d2-b36d-eda5e3bf7333",
   "metadata": {},
   "outputs": [
    {
     "name": "stdin",
     "output_type": "stream",
     "text": [
      "Enter thelength of rectangle: 5.6\n",
      "Enter the width of rectangle: 6.5\n"
     ]
    },
    {
     "name": "stdout",
     "output_type": "stream",
     "text": [
      "The area of rectangle is: 36.4\n"
     ]
    }
   ],
   "source": [
    "length = float(input(\"Enter thelength of rectangle:\" ))  #take input from user for length\n",
    "width = float(input(\"Enter the width of rectangle:\" ))   #take input from user for width\n",
    "\n",
    "area = length * width                                    #calculate the area of rectangle\n",
    "\n",
    "print(\"The area of rectangle is:\" , area)                #print the calculated area"
   ]
  },
  {
   "cell_type": "markdown",
   "id": "8e8e3570-5e79-49cb-86a8-f227a57d10b6",
   "metadata": {},
   "source": [
    "3. Write a Python program that converts temperatures from Celsius to\n",
    "Fahrenheit. Take the temperature in Celsius as input, store it in a variable,\n",
    "convert it to Fahrenheit, and display the result."
   ]
  },
  {
   "cell_type": "code",
   "execution_count": 3,
   "id": "6554bd8e-3485-4507-a845-317c6c6f57af",
   "metadata": {},
   "outputs": [
    {
     "name": "stdin",
     "output_type": "stream",
     "text": [
      "Enter the temperature in celsius: 25\n"
     ]
    },
    {
     "name": "stdout",
     "output_type": "stream",
     "text": [
      "temperature in fahrenheit: 77.0\n"
     ]
    }
   ],
   "source": [
    "'''take the temperature in celsius as input from user using input() function and this is converted  \n",
    "   to a float using float() function and stored in the variablw celsius'''\n",
    "\n",
    "celsius = float(input(\"Enter the temperature in celsius:\" ))  \n",
    "                                                            \n",
    "fahrenheit = (celsius*9/5) + 32                  # converting celsius to fahrenheit\n",
    "print(\"temperature in fahrenheit:\",fahrenheit)   # display the result"
   ]
  },
  {
   "cell_type": "markdown",
   "id": "af04c7bc-0f8f-41cb-9a8b-90cb3a1ff9ba",
   "metadata": {},
   "source": [
    "TOPIC: String Based Questions"
   ]
  },
  {
   "cell_type": "markdown",
   "id": "306ffaf2-8c82-40f9-85a7-97387068b6ce",
   "metadata": {},
   "source": [
    "1. Write a Python program that takes a string as input and prints the length of\n",
    "the string."
   ]
  },
  {
   "cell_type": "code",
   "execution_count": 4,
   "id": "bfa422f8-6a94-4439-8438-5e0b4f4d6eb1",
   "metadata": {},
   "outputs": [
    {
     "name": "stdin",
     "output_type": "stream",
     "text": [
      "Enter a string: '  krishna'\n"
     ]
    },
    {
     "name": "stdout",
     "output_type": "stream",
     "text": [
      "length of the string: 11\n"
     ]
    }
   ],
   "source": [
    "string = input(\"Enter a string:\") #take string as input from the user using input() function\n",
    "length = len(string)              #we use len() function to calculate length of string and store it in 'length' variable\n",
    "print(\"length of the string:\",length)#prints the lenghth of the string"
   ]
  },
  {
   "cell_type": "markdown",
   "id": "e04de38a-9f04-428c-8ea9-6a1477a9c6f0",
   "metadata": {},
   "source": [
    "2. Create a program that takes a sentence from the user and counts the number\n",
    "of vowels (a, e, i, o, u) in the string."
   ]
  },
  {
   "cell_type": "code",
   "execution_count": 10,
   "id": "3c87046e-4ba6-4350-8497-df5ff8d9eb46",
   "metadata": {},
   "outputs": [
    {
     "name": "stdin",
     "output_type": "stream",
     "text": [
      "enter the string: hema is going to do dance now\n"
     ]
    },
    {
     "name": "stdout",
     "output_type": "stream",
     "text": [
      "count the number of vowels present in the string: 10\n"
     ]
    }
   ],
   "source": [
    "str1 = input (\"enter the string:\") #take str1 as input from the user using input() function\n",
    "str1_lower = str1.lower() # converting entire input to lowrcase and store it in 'str1_lower' varible\n",
    "\n",
    "vowels = 'aeiou'           # storing the vowels in the variable name called as 'vowles'\n",
    "\n",
    "count=0                    # to keep the count of variable ,taking variable name as 'count' and initially taking count as zero\n",
    "\n",
    "for i in str1_lower:   #here 'i' is variable name represents each charecter of string we need to go through each\n",
    "        #letter of string(str1_lower) and need to compare with the vowels whether the vowel is present in string or not\n",
    "    if i in vowels: #i represent alphabet of string present in the vowel  and 'in' is operator it will check whether i is present\n",
    "        count=count+1 # if i is present in vowels we need to incremen the count by 1\n",
    "        \n",
    "print(\"count the number of vowels present in the string:\",count)"
   ]
  },
  {
   "cell_type": "markdown",
   "id": "a0d559d5-1da2-4221-a968-0cfcc61c9e8c",
   "metadata": {},
   "source": [
    "3. Given a string, reverse the order of characters using string slicing and print\n",
    "the reversed string."
   ]
  },
  {
   "cell_type": "code",
   "execution_count": 6,
   "id": "257c39fd-761d-4e06-9421-057169c990db",
   "metadata": {},
   "outputs": [
    {
     "name": "stdin",
     "output_type": "stream",
     "text": [
      "enter the string: kavyaanjali\n"
     ]
    },
    {
     "name": "stdout",
     "output_type": "stream",
     "text": [
      "ilajnaayvak\n"
     ]
    }
   ],
   "source": [
    "text = input(\"enter the string:\") #taking text as input from the user using input() function\n",
    "k=text[::-1]                      #reversing the string using slicing\n",
    "print(k)                          # printing the reversed string k"
   ]
  },
  {
   "cell_type": "markdown",
   "id": "3a9634bf-700f-4662-a6da-671624f8aed7",
   "metadata": {},
   "source": [
    "4. Write a program that takes a string as input and checks if it is a palindrome\n",
    "(reads the same forwards and backwards)."
   ]
  },
  {
   "cell_type": "code",
   "execution_count": 7,
   "id": "d6703868-c348-4fcf-9d62-99bc8803d79b",
   "metadata": {},
   "outputs": [
    {
     "name": "stdin",
     "output_type": "stream",
     "text": [
      "enter the string: madam\n"
     ]
    },
    {
     "name": "stdout",
     "output_type": "stream",
     "text": [
      "PALINDROME\n"
     ]
    }
   ],
   "source": [
    "str3 = input(\"enter the string:\") #taking str3 as input from the user using input() function\n",
    "rev_string=str3[::-1]             #reversing the string using slicing\n",
    "if str3 == rev_string:            #checking that str3== rev_string\n",
    "    print(\"PALINDROME\")        \n",
    "else:\n",
    "    print(\"NOT PALINDROME\")"
   ]
  },
  {
   "cell_type": "markdown",
   "id": "36c56212-a8db-406f-bb7d-659824c80e9c",
   "metadata": {},
   "source": [
    "5. Create a program that takes a string as input and removes all the spaces from\n",
    "it. Print the modified string without spaces."
   ]
  },
  {
   "cell_type": "code",
   "execution_count": 9,
   "id": "fc8815a5-1e3a-4cee-bb15-2f7124b5112f",
   "metadata": {},
   "outputs": [
    {
     "name": "stdin",
     "output_type": "stream",
     "text": [
      "enter the string: hello world\n"
     ]
    },
    {
     "name": "stdout",
     "output_type": "stream",
     "text": [
      "modified string without spaces: helloworld\n"
     ]
    }
   ],
   "source": [
    "str4 = input(\"enter the string:\") #taking str4 as input from the user using input() function\n",
    "modified_string = str4.replace(\" \",\"\") # here we are replacing the space charecter with blank\n",
    "print(\"modified string without spaces:\",modified_string)"
   ]
  },
  {
   "cell_type": "code",
   "execution_count": null,
   "id": "ee0aaa1d-6b7c-4568-80ab-dd7f71238062",
   "metadata": {},
   "outputs": [],
   "source": []
  }
 ],
 "metadata": {
  "kernelspec": {
   "display_name": "Python 3 (ipykernel)",
   "language": "python",
   "name": "python3"
  },
  "language_info": {
   "codemirror_mode": {
    "name": "ipython",
    "version": 3
   },
   "file_extension": ".py",
   "mimetype": "text/x-python",
   "name": "python",
   "nbconvert_exporter": "python",
   "pygments_lexer": "ipython3",
   "version": "3.10.8"
  }
 },
 "nbformat": 4,
 "nbformat_minor": 5
}
