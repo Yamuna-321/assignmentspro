{
 "cells": [
  {
   "cell_type": "markdown",
   "id": "8b02da22-face-440d-b429-a3204980d4a5",
   "metadata": {},
   "source": [
    "For loop"
   ]
  },
  {
   "cell_type": "markdown",
   "id": "6c8e48ae-0ad3-4088-aeee-33c473db24a1",
   "metadata": {},
   "source": [
    "Basic level"
   ]
  },
  {
   "cell_type": "markdown",
   "id": "69d814c9-0d22-4b4b-a96e-88ac61380760",
   "metadata": {},
   "source": [
    "1. Write a Python program to print the numbers from 1 to 10 using a `for` loop."
   ]
  },
  {
   "cell_type": "code",
   "execution_count": 4,
   "id": "47e95912-0e6d-4fe1-825b-a36e9ba37aa2",
   "metadata": {},
   "outputs": [
    {
     "name": "stdout",
     "output_type": "stream",
     "text": [
      "1\n",
      "2\n",
      "3\n",
      "4\n",
      "5\n",
      "6\n",
      "7\n",
      "8\n",
      "9\n",
      "10\n"
     ]
    }
   ],
   "source": [
    "for num in range (1,11):\n",
    "    print(num)"
   ]
  },
  {
   "cell_type": "markdown",
   "id": "9eb8de32-39ae-4c3d-b1e7-97fbe7a128da",
   "metadata": {},
   "source": [
    "2. Create a program that calculates the sum of all numbers in a list using a `for` loop."
   ]
  },
  {
   "cell_type": "code",
   "execution_count": 10,
   "id": "542d36df-b2c7-4f0d-8da7-6a0460524282",
   "metadata": {},
   "outputs": [
    {
     "name": "stdout",
     "output_type": "stream",
     "text": [
      " The sum of numbers in the list is: 28\n"
     ]
    }
   ],
   "source": [
    "def calculate_sum(numbers): # Function to calculate the sum of all numbers in a list\n",
    "    total = 0     # Initialize a variable to store the sum\n",
    "    for num in numbers:\n",
    "        total += num # Add each number to the total\n",
    "    return total\n",
    "\n",
    "if __name__== \"__main__\":\n",
    "    numbers_list=[1,2,3,4,5,6,7]\n",
    "    \n",
    "    result=calculate_sum(numbers_list) # Calculate the sum of numbers in the list using the function\n",
    "    \n",
    "    print(f\" The sum of numbers in the list is: {result}\")"
   ]
  },
  {
   "cell_type": "markdown",
   "id": "0852e87d-7fb8-479b-b7bc-ba355e255249",
   "metadata": {},
   "source": [
    "3. Write a program to print the characters of a string in reverse order using a `for` loop."
   ]
  },
  {
   "cell_type": "code",
   "execution_count": 11,
   "id": "2701c2da-5934-4a65-8055-8c3ca89caca5",
   "metadata": {},
   "outputs": [
    {
     "name": "stdin",
     "output_type": "stream",
     "text": [
      "enter a string:  Welcome to home\n"
     ]
    },
    {
     "name": "stdout",
     "output_type": "stream",
     "text": [
      "e\n",
      "m\n",
      "o\n",
      "h\n",
      " \n",
      "o\n",
      "t\n",
      " \n",
      "e\n",
      "m\n",
      "o\n",
      "c\n",
      "l\n",
      "e\n",
      "W\n"
     ]
    }
   ],
   "source": [
    "input_string=input(\"enter a string: \")\n",
    "for char in reversed(input_string):\n",
    "    print(char)"
   ]
  },
  {
   "cell_type": "markdown",
   "id": "376afaaa-4fe0-4d1f-a6a2-a7ecb136062b",
   "metadata": {},
   "source": [
    "4. Develop a program that finds the factorial of a given number using a `for` loop."
   ]
  },
  {
   "cell_type": "code",
   "execution_count": 12,
   "id": "5a9f61f2-98ec-4fb3-a36f-6490307cf0f8",
   "metadata": {},
   "outputs": [
    {
     "name": "stdin",
     "output_type": "stream",
     "text": [
      "enter a number: 5\n"
     ]
    },
    {
     "name": "stdout",
     "output_type": "stream",
     "text": [
      "The factorial of a given number is 120\n"
     ]
    }
   ],
   "source": [
    "num = int(input(\"enter a number:\")) #taking num as input from the user using input() function\n",
    "fact =1 #we initialize a variable 'fact' to 1 and then use a for loop to iterate from 1 to n.In each iteration\n",
    "#we multiply the fact by i .here taking factorial number as 1 because factorial should always start with 1\n",
    "for i in range(1,num+1):\n",
    "    fact=fact*i\n",
    "print(\"The factorial of a given number is\",fact)\n",
    "        \n",
    "        "
   ]
  },
  {
   "cell_type": "markdown",
   "id": "9e76cd25-be97-414f-9616-6de751a65391",
   "metadata": {},
   "source": [
    "5. Create a program to print the multiplication table of a given number using a `for` loop."
   ]
  },
  {
   "cell_type": "code",
   "execution_count": 13,
   "id": "4f809665-dcc4-478f-a482-82305388cc32",
   "metadata": {},
   "outputs": [
    {
     "name": "stdin",
     "output_type": "stream",
     "text": [
      "enter the number: 5\n"
     ]
    },
    {
     "name": "stdout",
     "output_type": "stream",
     "text": [
      "5 * 1 = 5\n",
      "5 * 2 = 10\n",
      "5 * 3 = 15\n",
      "5 * 4 = 20\n",
      "5 * 5 = 25\n",
      "5 * 6 = 30\n",
      "5 * 7 = 35\n",
      "5 * 8 = 40\n",
      "5 * 9 = 45\n",
      "5 * 10 = 50\n",
      "5 * 11 = 55\n",
      "5 * 12 = 60\n",
      "5 * 13 = 65\n",
      "5 * 14 = 70\n",
      "5 * 15 = 75\n",
      "5 * 16 = 80\n",
      "5 * 17 = 85\n",
      "5 * 18 = 90\n",
      "5 * 19 = 95\n",
      "5 * 20 = 100\n"
     ]
    }
   ],
   "source": [
    "n=int(input(\"enter the number:\"))\n",
    "for i in range(1,21):# Multiplication table from 1 to 21\n",
    "# 5*1=5 so I want to print n value first n=5 \"*\",i=1 and equal= and n*i that is 5*1\n",
    "           print(n,\"*\",i,\"=\",n*i) #5 is number which we want the multiplication and 1,2,3 ..20=i and n*i= 5 to 100 i.e.,5*1=5 and 5*20=100\n",
    "           \n"
   ]
  },
  {
   "cell_type": "markdown",
   "id": "23fa1275-9659-4032-a080-7f74f49873f7",
   "metadata": {},
   "source": [
    "6. Write a program that counts the number of even and odd numbers in a list using a `for` loop."
   ]
  },
  {
   "cell_type": "code",
   "execution_count": 11,
   "id": "c8da4e72-7500-4edd-8944-fe0da85dc45a",
   "metadata": {},
   "outputs": [
    {
     "name": "stdout",
     "output_type": "stream",
     "text": [
      "number of even numbers: 6\n",
      "number of odd numbers: 7\n"
     ]
    }
   ],
   "source": [
    "list = [5,6,43,87,99,65,98,48,12,18,95,88,33] #We define a list\n",
    "#We initialize two counters, even_count and odd_count, to zero. These counters will keep track of the number of even and odd numbers in the list.\n",
    "even_count=0\n",
    "odd_count=0\n",
    "\n",
    "#We use a for loop to iterate through each element (num) in the 'list' list\n",
    "for num in list:\n",
    "#Inside the loop, we check if the current number (num) is even by using the modulo operator %. If list % 2 equals 0, it's even, so we increment the even_count variable by 1. Otherwise, it's odd, so we increment the odd_count variable by 1.\n",
    "    if num % 2 == 0:\n",
    "        even_count+=1\n",
    "    else:\n",
    "        odd_count+=1\n",
    "# Print the results\n",
    "print(\"number of even numbers:\",even_count)\n",
    "print(\"number of odd numbers:\",odd_count)"
   ]
  },
  {
   "cell_type": "markdown",
   "id": "2e83fc20-1025-47ed-ad14-bc5c6ff3a887",
   "metadata": {},
   "source": [
    "7. Develop a program that prints the squares of numbers from 1 to 5 using a `for` loop."
   ]
  },
  {
   "cell_type": "code",
   "execution_count": 26,
   "id": "92f853c2-c4f9-4583-b522-efe0501af961",
   "metadata": {},
   "outputs": [
    {
     "name": "stdout",
     "output_type": "stream",
     "text": [
      "the square of a numbe is: 1\n",
      "the square of a numbe is: 4\n",
      "the square of a numbe is: 9\n",
      "the square of a numbe is: 16\n",
      "the square of a numbe is: 25\n"
     ]
    }
   ],
   "source": [
    "#We define a function called print_squares using the def keyword. This function encapsulates the logic to print the squares of numbers\n",
    "def print_squares():\n",
    "#Inside the print_squares function, we use a for loop to iterate through numbers from 1 to 5 (inclusive).\n",
    "    for num in range(1,6):\n",
    "#  For each number (num) in the range, we calculate its square by raising it to the power of 2 (num ** 2) and store the result in the square variable.      \n",
    "        square = num **2\n",
    "#We use the print function to display the square of each number in the format \"The square of [number] is [square].    \n",
    "        print(\"the square of a numbe is:\",square)\n",
    "\n",
    "#Finally, we call the print_squares function to execute the code within it and print the squares of numbers from 1 to 5.\n",
    "print_squares()"
   ]
  },
  {
   "cell_type": "markdown",
   "id": "7e9923bc-d485-4f1d-821e-2cbdeebbbcb1",
   "metadata": {},
   "source": [
    "8. Create a program to find the length of a string without using the `len()` function."
   ]
  },
  {
   "cell_type": "code",
   "execution_count": 14,
   "id": "6d160c0d-fe83-406e-bb5d-308e57d3afa8",
   "metadata": {},
   "outputs": [
    {
     "name": "stdin",
     "output_type": "stream",
     "text": [
      "enter a string: I'm attending the class today\n"
     ]
    },
    {
     "name": "stdout",
     "output_type": "stream",
     "text": [
      "the length of the string is: 29\n"
     ]
    }
   ],
   "source": [
    "\"\"\"We define a function called find_string_length that takes an input_string as its parameter.\n",
    "\n",
    "Inside the function, we initialize a variable called length to 0. This variable will store the length of the string.\n",
    "\n",
    "We use a for loop to iterate through each character in the input_string. For each character encountered, we increment the length variable by 1.\n",
    "\n",
    "After iterating through the entire string, we return the length as the result.\n",
    "\n",
    "In the main part of the program, we take user input for the string using the input() function.\n",
    "\n",
    "We call the find_string_length function, passing the user-input string as an argument, and store the result in the length variable.\n",
    "\n",
    "Finally, we print the length of the string using an f-string.\n",
    "\n",
    "This program calculates and prints the length of the input string without using the built-in len() function.\"\"\"\n",
    "\n",
    "\n",
    "def find_string_length(input_string): # Function to find the length of a string\n",
    "    length = 0                       # Initialize a variable to store the length\n",
    "    # Iterate through the string\n",
    "    for char in input_string:\n",
    "        length+=1      ## Increment the length for each character\n",
    "\n",
    "    return length\n",
    "\n",
    "input_string=input(\"enter a string:\")  #Input string\n",
    "\n",
    "length = find_string_length(input_string) # Call the function to find the length\n",
    "    \n",
    "print(\"the length of the string is:\",length) ## Print the length of the string\n"
   ]
  },
  {
   "cell_type": "markdown",
   "id": "c4ff0626-d896-4bd0-8889-e9e342517c84",
   "metadata": {},
   "source": [
    "9. Write a program that calculates the average of a list of numbers using a `for` loop."
   ]
  },
  {
   "cell_type": "code",
   "execution_count": 4,
   "id": "f1020378-4319-44a5-8347-71f2a57263ba",
   "metadata": {},
   "outputs": [
    {
     "name": "stdout",
     "output_type": "stream",
     "text": [
      "the average of list of number is: 18.555555555555557\n"
     ]
    }
   ],
   "source": [
    "\"\"\"We define a list called numbers containing a sequence of numbers.\n",
    "\n",
    "We initialize two variables, total and count, to zero. These variables will keep track of the sum of numbers and the count of numbers in the list, respectively.\n",
    "\n",
    "We use a for loop to iterate through each element (num) in the numbers list.\n",
    "\n",
    "Inside the loop, we add the current number (num) to the total variable and increment the count variable by 1 for each element in the list.\n",
    "\n",
    "After the loop finishes, we calculate the average by dividing the total by the count, and we store the result in the average variable.\n",
    "\n",
    "Finally, we print the calculated average\"\"\"\n",
    "\n",
    "numbers = [12,14,15,17,19,11,13,31,35] # Define a list of numbers\n",
    "\n",
    "total=0  # Initialize variables for sum and count\n",
    "count=0\n",
    "\n",
    "for num in numbers: # Iterate through the list and calculate the sum and count\n",
    "\n",
    "    total+=num\n",
    "    count+=1\n",
    "    \n",
    "average=total/count  # Calculate the average\n",
    "\n",
    "print(\"the average of list of number is:\",average) # Print the average\n",
    "    "
   ]
  },
  {
   "cell_type": "markdown",
   "id": "ecc43217-2345-41b8-b8c0-e06eea361824",
   "metadata": {},
   "source": [
    "10. Develop a program that prints the first `n` Fibonacci numbers using a `for` loop."
   ]
  },
  {
   "cell_type": "code",
   "execution_count": 6,
   "id": "35d2854d-3f8c-4bb0-aa3d-809016bdca12",
   "metadata": {},
   "outputs": [
    {
     "name": "stdin",
     "output_type": "stream",
     "text": [
      "enter the number: 10\n"
     ]
    },
    {
     "name": "stdout",
     "output_type": "stream",
     "text": [
      "0\n",
      "1\n",
      "1\n",
      "2\n",
      "3\n",
      "5\n",
      "8\n",
      "13\n",
      "21\n",
      "34\n"
     ]
    }
   ],
   "source": [
    "#the Fibonacci sequence is a sequence in which each number is the sum of the two preceding ones. Numbers that are part of the Fibonacci sequence are known as Fibonacci numbers\n",
    "# 0,1,1,2,3,5,8,13..... n means number of terms from user, firs term n is always zer0, if n>=2,we will be computing fibonacci series\n",
    "\n",
    "def fib(n):\n",
    "    a=0\n",
    "    b=1\n",
    "    \n",
    "    print(a)\n",
    "    print(b)\n",
    "    \n",
    "    for i in range(2,n): #for repeating the steps we use for loop .here printing adding ( first two numbers) so take it as 2 and n.\n",
    "        c=a+b\n",
    "        a=b #we are swapping numbers because 0,1,1,2,3,5,8,13\n",
    "        b=c                                # a+b=c  here a is 0 and b is 1 adding 0+1=1 that is c and again a+b will shift to 1+1=2\n",
    "        print(c)                           #   a+b=c here a=1 and b=1 and 1+1=2 is c\n",
    "\n",
    "n=int(input(\"enter the number:\"))\n",
    "fib(n)#calling the function that is fib(n)\n",
    "\n"
   ]
  },
  {
   "cell_type": "markdown",
   "id": "5e246923-6e07-4a59-999c-b8e56136723e",
   "metadata": {},
   "source": [
    "Intermediate Level:"
   ]
  },
  {
   "cell_type": "markdown",
   "id": "15cc464d-aef1-4429-9a99-1028fcc7edf1",
   "metadata": {},
   "source": [
    "11. Write a program to check if a given list contains any duplicates using a `for` loop."
   ]
  },
  {
   "cell_type": "code",
   "execution_count": 7,
   "id": "f19561ca-2b86-4d37-96d0-441e0b491db5",
   "metadata": {},
   "outputs": [
    {
     "name": "stdin",
     "output_type": "stream",
     "text": [
      "Enter a list of elements separated by spaces:  5 7 8 4 3 5 8 9 8 1 9\n"
     ]
    },
    {
     "name": "stdout",
     "output_type": "stream",
     "text": [
      "The list contains duplicates.\n"
     ]
    }
   ],
   "source": [
    "# Function to check for duplicates in a list\n",
    "def has_duplicates(input_list):\n",
    "    seen = set()  # Create an empty set to store seen elements\n",
    "\n",
    "    for item in input_list:\n",
    "        if item in seen:\n",
    "            return True  # If the item is already in the set, it's a duplicate\n",
    "        seen.add(item)  # Add the item to the set\n",
    "\n",
    "    return False  # If the loop completes without finding duplicates, return False\n",
    "\n",
    "# Input a list from the user\n",
    "input_list = input(\"Enter a list of elements separated by spaces: \").split()\n",
    "\n",
    "# Convert the input to a list of integers (assuming integer elements)\n",
    "input_list = [int(item) for item in input_list]\n",
    "\n",
    "# Check if the list contains duplicates\n",
    "if has_duplicates(input_list):\n",
    "    print(\"The list contains duplicates.\")\n",
    "else:\n",
    "    print(\"The list does not contain duplicates.\")"
   ]
  },
  {
   "cell_type": "markdown",
   "id": "e59483f5-ce58-4e51-9488-bf59c2e9bf1b",
   "metadata": {},
   "source": [
    "12. Create a program that prints the prime numbers in a given range using a `for` loop."
   ]
  },
  {
   "cell_type": "code",
   "execution_count": 11,
   "id": "83d9ad6b-92b0-405a-827a-087758b82f0e",
   "metadata": {},
   "outputs": [
    {
     "name": "stdin",
     "output_type": "stream",
     "text": [
      "enter a starting value: 10\n",
      "enter a end value: 100\n"
     ]
    },
    {
     "name": "stdout",
     "output_type": "stream",
     "text": [
      "11 13 17 19 23 29 31 37 41 43 47 53 59 61 67 71 73 79 83 89 97 "
     ]
    }
   ],
   "source": [
    "start = int(input(\"enter a starting value:\"))\n",
    "end = int(input(\"enter a end value:\"))\n",
    "          \n",
    "for i in range(start,end+1):  #We include the end value in the range by using end + 1\n",
    "    for j in range(2,i):      ## Prime numbers are greater than 1\n",
    "        if i%j==0: #We use a nested loop to check for divisors and break out of the inner loop if we find one. If we don't find any divisors, we print the prime number.\n",
    "\n",
    "            break\n",
    "            \n",
    "    else:\n",
    "        print(i,end=\" \")"
   ]
  },
  {
   "cell_type": "markdown",
   "id": "bd6011ea-417b-4f35-a4ed-70a49e007695",
   "metadata": {},
   "source": [
    "13. Develop a program that counts the number of vowels in a string using a `for` loop."
   ]
  },
  {
   "cell_type": "code",
   "execution_count": 18,
   "id": "290d4c85-5f63-49e0-a965-79d394e993b0",
   "metadata": {},
   "outputs": [
    {
     "name": "stdin",
     "output_type": "stream",
     "text": [
      "enter a string: welcome\n"
     ]
    },
    {
     "name": "stdout",
     "output_type": "stream",
     "text": [
      "number of vowels: 3\n"
     ]
    }
   ],
   "source": [
    "input_string=input(\"enter a string:\")\n",
    "\n",
    "vowel_count=0         # Initialize a variable to count the vowels\n",
    "vowels=\"AEIOUaeiou\"  # Define a list of vowels\n",
    "\n",
    "for char in input_string:   # Iterate through each character in the input string\n",
    "    \n",
    "    if char in vowels:      # Check if the character is in the list of vowels\n",
    "\n",
    "        vowel_count += 1    #If it is, we increment the vowel_count by 1.\n",
    "        \n",
    "print(\"number of vowels:\",vowel_count)  #we print the count of vowels"
   ]
  },
  {
   "cell_type": "markdown",
   "id": "7c2715d6-b251-456c-a3c3-5a0ee07a096e",
   "metadata": {},
   "source": [
    "14. Write a program to find the maximum element in a 2D list using a nested `for` loop."
   ]
  },
  {
   "cell_type": "code",
   "execution_count": 21,
   "id": "05c0f2d2-a920-4769-b593-10519377c64a",
   "metadata": {},
   "outputs": [
    {
     "name": "stdout",
     "output_type": "stream",
     "text": [
      "maximum element in the 2D list: 99\n"
     ]
    }
   ],
   "source": [
    "#sample 2D list\n",
    "matrix= [\n",
    "        [23, 55, 66],\n",
    "        [98, 99, 16],\n",
    "        [67, 87, 43]\n",
    "        ]\n",
    "\n",
    "max_element=matrix[0][0]  #We initialize the max_element variable with the value of the first element in the matrix (matrix[0][0]) as a starting point.\n",
    "                          # or max_element=float('-inf') it means initialize the max_element to smallest possible integer value\n",
    "for row in matrix:\n",
    "    for element in row:\n",
    "        if element > max_element:\n",
    "            max_element=element\n",
    "            \n",
    "            \n",
    "print(\"maximum element in the 2D list:\",max_element)"
   ]
  },
  {
   "cell_type": "markdown",
   "id": "58d026f2-ff1b-4d40-86fc-cbfc3460805b",
   "metadata": {},
   "source": [
    "15. Create a program that removes all occurrences of a specific element from a list using a `for` loop."
   ]
  },
  {
   "cell_type": "code",
   "execution_count": 16,
   "id": "54eb10be-aa80-4c3e-99f2-64e0138eb6d5",
   "metadata": {},
   "outputs": [
    {
     "name": "stdout",
     "output_type": "stream",
     "text": [
      "Original list: [1, 7, 3, 5, 4, 5, 9, 6, 8, 4, 5]\n",
      "List after removing 5: [1, 7, 3, 4, 9, 6, 8, 4]\n"
     ]
    }
   ],
   "source": [
    "# Function to remove all occurrences of a specific element from a list\n",
    "def remove_element(input_list, element_to_remove):\n",
    "    modified_list = []\n",
    "    for item in input_list:\n",
    "        if item != element_to_remove:\n",
    "            modified_list.append(item)\n",
    "    return modified_list\n",
    "\n",
    "if __name__ == \"__main__\":\n",
    "    # Sample list\n",
    "    my_list = [1, 7, 3, 5, 4, 5, 9, 6, 8, 4, 5]\n",
    "\n",
    "    # Element to remove from the list\n",
    "    element_to_remove = 5\n",
    "\n",
    "    # Remove all occurrences of the element using the function\n",
    "    modified_list = remove_element(my_list, element_to_remove)\n",
    "\n",
    "    # Print the modified list\n",
    "    print(f\"Original list: {my_list}\")\n",
    "    print(f\"List after removing {element_to_remove}: {modified_list}\")"
   ]
  },
  {
   "cell_type": "markdown",
   "id": "54ca38c3-9218-4d4a-91db-650f0ddd522d",
   "metadata": {},
   "source": [
    "16. Develop a program that generates a multiplication table for numbers from 1 to 5 using a nested `for` loop.\n",
    "\n"
   ]
  },
  {
   "cell_type": "code",
   "execution_count": 30,
   "id": "aca5a3a0-2e19-483e-942f-9b50d7446537",
   "metadata": {},
   "outputs": [
    {
     "name": "stdout",
     "output_type": "stream",
     "text": [
      "1 * 1 = 1\n",
      "\n",
      "1 * 2 = 2\n",
      "\n",
      "1 * 3 = 3\n",
      "\n",
      "1 * 4 = 4\n",
      "\n",
      "1 * 5 = 5\n",
      "\n",
      "1 * 6 = 6\n",
      "\n",
      "1 * 7 = 7\n",
      "\n",
      "1 * 8 = 8\n",
      "\n",
      "1 * 9 = 9\n",
      "\n",
      "1 * 10 = 10\n",
      "\n",
      "2 * 1 = 2\n",
      "\n",
      "2 * 2 = 4\n",
      "\n",
      "2 * 3 = 6\n",
      "\n",
      "2 * 4 = 8\n",
      "\n",
      "2 * 5 = 10\n",
      "\n",
      "2 * 6 = 12\n",
      "\n",
      "2 * 7 = 14\n",
      "\n",
      "2 * 8 = 16\n",
      "\n",
      "2 * 9 = 18\n",
      "\n",
      "2 * 10 = 20\n",
      "\n",
      "3 * 1 = 3\n",
      "\n",
      "3 * 2 = 6\n",
      "\n",
      "3 * 3 = 9\n",
      "\n",
      "3 * 4 = 12\n",
      "\n",
      "3 * 5 = 15\n",
      "\n",
      "3 * 6 = 18\n",
      "\n",
      "3 * 7 = 21\n",
      "\n",
      "3 * 8 = 24\n",
      "\n",
      "3 * 9 = 27\n",
      "\n",
      "3 * 10 = 30\n",
      "\n",
      "4 * 1 = 4\n",
      "\n",
      "4 * 2 = 8\n",
      "\n",
      "4 * 3 = 12\n",
      "\n",
      "4 * 4 = 16\n",
      "\n",
      "4 * 5 = 20\n",
      "\n",
      "4 * 6 = 24\n",
      "\n",
      "4 * 7 = 28\n",
      "\n",
      "4 * 8 = 32\n",
      "\n",
      "4 * 9 = 36\n",
      "\n",
      "4 * 10 = 40\n",
      "\n",
      "5 * 1 = 5\n",
      "\n",
      "5 * 2 = 10\n",
      "\n",
      "5 * 3 = 15\n",
      "\n",
      "5 * 4 = 20\n",
      "\n",
      "5 * 5 = 25\n",
      "\n",
      "5 * 6 = 30\n",
      "\n",
      "5 * 7 = 35\n",
      "\n",
      "5 * 8 = 40\n",
      "\n",
      "5 * 9 = 45\n",
      "\n",
      "5 * 10 = 50\n",
      "\n"
     ]
    }
   ],
   "source": [
    "start=1  # Define the range of numbers for the multiplication table\n",
    "end=5\n",
    "\n",
    "for i in range(start,end+1):  # Iterate through numbers from start to end\n",
    "    for j in range(1,11): #inner loop to calculate and display the multiplication table for each number,multiplication table from 1 to 10\n",
    "        result=i * j\n",
    "        print(f\"{i } * {j} = {result}\")\n",
    "        \n",
    "        print()   # Add a newline between tables it means gap\n",
    "        "
   ]
  },
  {
   "cell_type": "markdown",
   "id": "3625e197-aab6-4a34-8a18-bf3a49d313ea",
   "metadata": {},
   "source": [
    "17. Write a program that converts a list of Fahrenheit temperatures to Celsius using a `for` loop"
   ]
  },
  {
   "cell_type": "code",
   "execution_count": 33,
   "id": "201ca55c-22b3-452e-a232-a1d55cfca66e",
   "metadata": {},
   "outputs": [
    {
     "name": "stdout",
     "output_type": "stream",
     "text": [
      "Fahrenheit Temperatures: [32, 68, 95, 104, 212, 215]\n",
      "Celsius Temperatures: [0.0, 20.0, 35.0, 40.0, 100.0, 101.66666666666667]\n"
     ]
    }
   ],
   "source": [
    "fahrenheit_temperatures=[32,68,95,104,212,215]\n",
    "\n",
    "celsius_temperatures=[] #We create an empty list called celsius_temperatures to store the converted temperatures.\n",
    "\n",
    "for fahrenheit in fahrenheit_temperatures: #We use a for loop to iterate through each temperature in the fahrenheit_temperatures list\n",
    "    celsius=(fahrenheit-32)* 5/9     #formula to convert fahrenheit to celsius and store the result in the 'celsius' variable.\n",
    "    celsius_temperatures.append(celsius) #We append the converted Celsius temperature to the 'celsius_temperatures' list.\n",
    "\n",
    "print(\"Fahrenheit Temperatures:\", fahrenheit_temperatures) # print both the original Fahrenheit temperatures and the converted Celsius temperatures.\n",
    "print(\"Celsius Temperatures:\", celsius_temperatures)\n",
    "\n",
    "\n",
    "\n",
    "\n"
   ]
  },
  {
   "cell_type": "markdown",
   "id": "75f3c0ac-4818-4c26-94dd-5bf46365cc11",
   "metadata": {},
   "source": [
    "18. Create a program to print the common elements from two lists using a `for` loop."
   ]
  },
  {
   "cell_type": "code",
   "execution_count": 44,
   "id": "1a69a527-e081-4907-aa52-06acc67d7c69",
   "metadata": {},
   "outputs": [
    {
     "name": "stdout",
     "output_type": "stream",
     "text": [
      "Common elements: [3, 4, 5]\n"
     ]
    }
   ],
   "source": [
    "# Function to find common elements in two lists\n",
    "def find_common_elements(list1, list2):\n",
    "    common_elements = []\n",
    "    \n",
    "    \n",
    "    for item in list1:     #we use a for loop to iterate through each item in list1\n",
    "        if item in list2:  #For each item, we check if it is also in list2 using the in operator\n",
    "            common_elements.append(item)  #If it is, we append it to the 'common_elements' list.\n",
    "    return common_elements\n",
    "\n",
    "# Example lists\n",
    "list1 = [1, 2, 3, 4, 5]\n",
    "list2 = [3, 4, 5, 6, 7]\n",
    "\n",
    "# Call the function to find common elements\n",
    "common_elements = find_common_elements(list1, list2)\n",
    "\n",
    "# Print the common elements\n",
    "print(\"Common elements:\", common_elements)"
   ]
  },
  {
   "cell_type": "markdown",
   "id": "d0e1e172-6515-44eb-83da-75505bc4a145",
   "metadata": {},
   "source": [
    "19. Develop a program that prints the pattern of right-angled triangles using a `for` loop. Use ‘*’ to draw the\n",
    "pattern"
   ]
  },
  {
   "cell_type": "code",
   "execution_count": 46,
   "id": "1a88e91f-7406-4a3a-a593-3542382a1866",
   "metadata": {},
   "outputs": [
    {
     "name": "stdin",
     "output_type": "stream",
     "text": [
      "enter the number of rows: 5\n"
     ]
    },
    {
     "name": "stdout",
     "output_type": "stream",
     "text": [
      "*\n",
      "**\n",
      "***\n",
      "****\n",
      "*****\n"
     ]
    }
   ],
   "source": [
    "num_of_rows=int(input(\"enter the number of rows:\"))\n",
    "\n",
    "for i in range(1, num_of_rows + 1):\n",
    "    \n",
    "    print('*' * i)"
   ]
  },
  {
   "cell_type": "markdown",
   "id": "5869c40f-448c-454c-af95-6bdfd5335722",
   "metadata": {},
   "source": [
    "20. Write a program to find the greatest common divisor (GCD) of two numbers using a `for` loop."
   ]
  },
  {
   "cell_type": "code",
   "execution_count": 51,
   "id": "e877fbf3-6532-4daa-afae-01ad6902d249",
   "metadata": {},
   "outputs": [
    {
     "name": "stdin",
     "output_type": "stream",
     "text": [
      "Enter the first number:  6\n",
      "Enter the second number:  8\n"
     ]
    },
    {
     "name": "stdout",
     "output_type": "stream",
     "text": [
      "the greatest common divisor of 6 and 8 is : 2\n"
     ]
    }
   ],
   "source": [
    "# 20/4=5  here 4 is the divisor\n",
    "\n",
    "def find_gcd(a,b):  # Function to find the greatest common divisor (GCD) of two numbers\n",
    "    gcd = 1         # Initialize a variable to store the GCD\n",
    "    \n",
    "    if a>b:            # Find the smaller of the two numbers\n",
    "        smaller = b\n",
    "    else:\n",
    "        smaller = a\n",
    "        \n",
    "    for i in range(1, smaller+1):  # Use a for loop to iterate from 1 to the smaller number\n",
    "        if (a%i==0) and (b%i==0):  # Check if both a and b are divisible by the current number in the loop\n",
    "            gcd=i                  # Update the GCD if a common divisor is found\n",
    "        \n",
    "    return gcd\n",
    "\n",
    "        \n",
    "num1 = int(input(\"Enter the first number: \"))\n",
    "num2 = int(input(\"Enter the second number: \"))\n",
    "\n",
    "\n",
    "result=find_gcd(num1,num2)   # Call the function to find the GCD\n",
    " \n",
    "\n",
    "print(f\"the greatest common divisor of {num1} and {num2} is :\",result)"
   ]
  },
  {
   "cell_type": "markdown",
   "id": "4d7bb649-8b0d-4c62-8007-91fab003ab78",
   "metadata": {},
   "source": [
    "Advanced Level:"
   ]
  },
  {
   "cell_type": "markdown",
   "id": "38dece61-2bd5-4ba3-ae49-69b33544bc09",
   "metadata": {},
   "source": [
    "21. Create a program that calculates the sum of the digits of numbers in a list using a list comprehension."
   ]
  },
  {
   "cell_type": "code",
   "execution_count": 5,
   "id": "169bde84-7c92-4560-83f2-ccb569c35622",
   "metadata": {},
   "outputs": [
    {
     "name": "stdout",
     "output_type": "stream",
     "text": [
      "Number: 123, Sum of Digits: 6\n",
      "Number: 546, Sum of Digits: 15\n",
      "Number: 233, Sum of Digits: 8\n",
      "Number: 654, Sum of Digits: 15\n",
      "Number: 23, Sum of Digits: 5\n",
      "Number: 567, Sum of Digits: 18\n",
      "Number: 198, Sum of Digits: 18\n"
     ]
    }
   ],
   "source": [
    "numbers=[ 123,546,233,654,23,567,198]\n",
    "\n",
    "#We use a list comprehension to calculate the sum of digits for each number in the numbers\n",
    "# Inside the list comprehension:\n",
    "\n",
    "# str(num) converts each number to a string to make it iterable.\n",
    "# map(int, str(num)) converts each digit in the string representation of the number back to an integer\n",
    "#sum() is used to calculate the sum of the digits.\n",
    "#The results (sums of digits) are stored in the sums list.\n",
    "sums=[ sum(int(digit)  for digit in str(num)) for num in numbers]\n",
    "\n",
    "\n",
    "#Finally, we iterate through both the original numbers and their corresponding sums of digits using a for loop and print them.\n",
    "for i in range(len(numbers)):\n",
    "    print(f\"Number: {numbers[i]}, Sum of Digits: {sums[i]}\")\n"
   ]
  },
  {
   "cell_type": "markdown",
   "id": "a0588739-7f35-4e8b-959a-96d1b1af31e7",
   "metadata": {},
   "source": [
    "22. Write a program to find the prime factors of a given number using a `for` loop and list comprehension.\n",
    "\n"
   ]
  },
  {
   "cell_type": "code",
   "execution_count": 23,
   "id": "b5e6f643-e7e9-4d60-a197-4580ff1752c0",
   "metadata": {},
   "outputs": [
    {
     "name": "stdin",
     "output_type": "stream",
     "text": [
      "Enter a positive integer:  55\n"
     ]
    },
    {
     "name": "stdout",
     "output_type": "stream",
     "text": [
      "Prime factors of 55: [5, 11]\n"
     ]
    }
   ],
   "source": [
    "# Function to check if a number is prime\n",
    "def is_prime(num):\n",
    "    if num <= 1:\n",
    "        return False\n",
    "    if num <= 3:\n",
    "        return True\n",
    "    if num % 2 == 0 or num % 3 == 0:\n",
    "        return False\n",
    "    i = 5\n",
    "    while i * i <= num:\n",
    "        if num % i == 0 or num % (i + 2) == 0:\n",
    "            return False\n",
    "        i += 6\n",
    "    return True\n",
    "\n",
    "# Function to find prime factors of a number\n",
    "def prime_factors(number):\n",
    "    return [factor for factor in range(2, number + 1) if number % factor == 0 and is_prime(factor)]\n",
    "\n",
    "if __name__ == \"__main__\":\n",
    "    # Input: Number for which prime factors will be found\n",
    "    num = int(input(\"Enter a positive integer: \"))\n",
    "\n",
    "    if num <= 0:\n",
    "        print(\"Please enter a positive integer.\")\n",
    "    else:\n",
    "        # Find prime factors using list comprehension\n",
    "        factors = prime_factors(num)\n",
    "\n",
    "        # Print the prime factors\n",
    "        print(f\"Prime factors of {num}: {factors}\")\n",
    "\n",
    "\n",
    "\n"
   ]
  },
  {
   "cell_type": "markdown",
   "id": "724ddafc-2f98-4437-a498-78861ea658a3",
   "metadata": {},
   "source": [
    "23.Develop a program that extracts unique elements from a list and stores them in a new list using a list\n",
    "comprehension."
   ]
  },
  {
   "cell_type": "code",
   "execution_count": 9,
   "id": "85c8fd6c-487c-475b-a3b6-068ef817d90f",
   "metadata": {},
   "outputs": [
    {
     "name": "stdout",
     "output_type": "stream",
     "text": [
      "unique elements in the list are [1, 7, 8, 4]\n"
     ]
    }
   ],
   "source": [
    "list=[1,3,3,5,5,7,9,8,9,4] #creating a list\n",
    "\n",
    "#We use the count() method to count the occurrences of each element in list. If an element occurs only once (i.e., its count is equal to 1), it is considered unique and included in the unique_elements list.\n",
    "unique_elements=[x for x in list if list.count(x)==1]\n",
    "\n",
    "print(\"unique elements in the list are\", unique_elements)"
   ]
  },
  {
   "cell_type": "markdown",
   "id": "ba9e9693-f571-4309-b3c5-5560d7b9a3dc",
   "metadata": {},
   "source": [
    "24. Create a program that generates a list of all palindromic numbers up to a specified limit using a list\n",
    "comprehension."
   ]
  },
  {
   "cell_type": "code",
   "execution_count": 13,
   "id": "57a89f87-cadc-44a4-a53f-ba6e47fbc9c7",
   "metadata": {},
   "outputs": [
    {
     "name": "stdin",
     "output_type": "stream",
     "text": [
      "enter a limit 70\n"
     ]
    },
    {
     "name": "stdout",
     "output_type": "stream",
     "text": [
      "Palindromic numbers up to the limit: [1, 2, 3, 4, 5, 6, 7, 8, 9, 11, 22, 33, 44, 55, 66]\n"
     ]
    }
   ],
   "source": [
    "# Function to check if a number is palindromic\n",
    "def is_palindrome(number):\n",
    "    return str(number) == str(number)[::-1]  #by converting it to a string and comparing it to its reverse.\n",
    "\n",
    "# Input the limit\n",
    "limit=int(input(\"enter a limit\"))\n",
    "\n",
    "# Generate a list of palindromic numbers using list comprehension\n",
    "palindromic_numbers = [num for num in range(1, limit + 1) if is_palindrome(num)]\n",
    "\n",
    "# Display the list of palindromic numbers\n",
    "print(\"Palindromic numbers up to the limit:\", palindromic_numbers)"
   ]
  },
  {
   "cell_type": "markdown",
   "id": "4b8f1aa2-6438-4685-b923-403574385fd1",
   "metadata": {},
   "source": [
    "25. Write a program to flatten a nested list using list comprehension."
   ]
  },
  {
   "cell_type": "code",
   "execution_count": 15,
   "id": "4a881957-9ac7-4042-9996-f2da6d53fe29",
   "metadata": {},
   "outputs": [
    {
     "name": "stdout",
     "output_type": "stream",
     "text": [
      "Flattened_list: [1, 2, 3, 3, 4, 5, 6, 7, 8, 6, 5]\n"
     ]
    }
   ],
   "source": [
    "# Nested list with sublists\n",
    "nested_list=[ [1,2,3],[3,4,5,6],[7,8,6,5]]\n",
    "\n",
    "\n",
    "# Flatten the nested list using list comprehension\n",
    "flattened_list=[element for sublist in nested_list for element in sublist]\n",
    "\n",
    "print(\"Flattened_list:\",flattened_list)"
   ]
  },
  {
   "cell_type": "markdown",
   "id": "82026f12-57f6-4d79-a11f-5e493cb44b7c",
   "metadata": {},
   "source": [
    "26. Develop a program that computes the sum of even and odd numbers in a list separately using list\n",
    "comprehension."
   ]
  },
  {
   "cell_type": "code",
   "execution_count": 21,
   "id": "fbdc0667-4f31-4f1c-81db-36530044e2ac",
   "metadata": {},
   "outputs": [
    {
     "name": "stdout",
     "output_type": "stream",
     "text": [
      "Even numbers: [12, 4, 6, 18, 14, 6, 8, 2]\n",
      "sum of even numbers: 70\n",
      "odd numbers: [1, 3, 15, 7, 9, 5]\n",
      "sum of Odd numbers: 40\n"
     ]
    }
   ],
   "source": [
    "#input a list of numbers\n",
    "numbers=[1,12,3,4,15,6,7,18,9,5,14,6,8,2]\n",
    "\n",
    "even_numbers=[x for x in numbers if x%2 == 0] # Use list comprehension to create lists of even and odd numbers\n",
    "odd_numbers=[x for x in numbers if x%2 !=0]\n",
    "\n",
    "sum_even=sum(even_numbers) #calculate sum of even and odd numbers separately\n",
    "sum_odd=sum(odd_numbers)\n",
    "\n",
    "print(\"Even numbers:\",even_numbers)  # Display the sums\n",
    "print(\"sum of even numbers:\",sum_even)\n",
    "\n",
    "print(\"odd numbers:\",odd_numbers)\n",
    "print(\"sum of Odd numbers:\",sum_odd)\n",
    "\n",
    "\n"
   ]
  },
  {
   "cell_type": "markdown",
   "id": "244fce91-f031-4442-ac97-88409b87e255",
   "metadata": {},
   "source": [
    "27. Create a program that generates a list of squares of odd numbers between 1 and 10 using list\n",
    "comprehension."
   ]
  },
  {
   "cell_type": "code",
   "execution_count": 3,
   "id": "f8cd8cda-9588-4bb4-ac46-8691c8480d9e",
   "metadata": {},
   "outputs": [
    {
     "name": "stdout",
     "output_type": "stream",
     "text": [
      "square of odd numbers are: [1, 9, 25, 49, 81]\n"
     ]
    }
   ],
   "source": [
    "square_odd_numbers=[x ** 2 for x in range(1,11) if x%2 !=0]\n",
    "print(\"square of odd numbers are:\",square_odd_numbers)"
   ]
  },
  {
   "cell_type": "markdown",
   "id": "0efa63b8-231e-4e28-9bf5-c386e6c37772",
   "metadata": {},
   "source": [
    "28. Write a program that combines two lists into a dictionary using list comprehension."
   ]
  },
  {
   "cell_type": "code",
   "execution_count": 4,
   "id": "476c43fd-4caf-418e-81a5-660b16de565a",
   "metadata": {},
   "outputs": [
    {
     "name": "stdout",
     "output_type": "stream",
     "text": [
      "combined dictionary is: {'a': 1, 'b': 2, 'c': 3}\n"
     ]
    }
   ],
   "source": [
    "keys = [\"a\",\"b\",\"c\"]\n",
    "values = [ 1,2,3]\n",
    "#We use list comprehension to create the combined_dict. The zip(keys, values) function pairs up corresponding elements from the keys and values lists, and then, for each pair, it creates a key-value pair in the dictionary.\n",
    "combined_dict = {key:value for key,value in zip(keys,values)}\n",
    "print(\"combined dictionary is:\",combined_dict)"
   ]
  },
  {
   "cell_type": "markdown",
   "id": "a319c337-9912-4ca1-8cd3-d554faa01f6c",
   "metadata": {},
   "source": [
    "29. Develop a program that extracts the vowels from a string and stores them in a list using list comprehension."
   ]
  },
  {
   "cell_type": "code",
   "execution_count": 6,
   "id": "d61a43aa-82a0-49d4-ba58-8ce9c35ad280",
   "metadata": {},
   "outputs": [
    {
     "name": "stdout",
     "output_type": "stream",
     "text": [
      "vowels in the string: ['e', 'a', 'u', 'a']\n"
     ]
    }
   ],
   "source": [
    "input_string=\"bye yamuna\"\n",
    "\n",
    "vowels='AEIOUaeiou'\n",
    "\n",
    "vowel_list=[char for char in input_string if char in vowels]\n",
    "\n",
    "print(\"vowels in the string:\",vowel_list)"
   ]
  },
  {
   "cell_type": "markdown",
   "id": "24585666-c2f8-4d4c-884f-4bc4f2ac658e",
   "metadata": {},
   "source": [
    "30. Create a program that removes all non-numeric characters from a list of strings using list comprehension."
   ]
  },
  {
   "cell_type": "code",
   "execution_count": 12,
   "id": "e3fae00f-0f1d-4c9c-98a7-731837b3fcff",
   "metadata": {},
   "outputs": [
    {
     "name": "stdout",
     "output_type": "stream",
     "text": [
      "Numeric strings: ['123', '456', '349', '', '987']\n"
     ]
    }
   ],
   "source": [
    "# List of strings containing alphanumeric characters\n",
    "string_list=[\"abc123\",\"jhg456\",\"hjh349\",\"jkl\",\"987hg\"]\n",
    "\n",
    "#Within the list comprehension, char.isdigit() checks if each character in the string is a digit (numeric character). The join function combines these numeric characters into a single string.\n",
    "numeric_strings=[''.join(char for char in s if char.isdigit()) for s in string_list]\n",
    "\n",
    "print(\"Numeric strings:\", numeric_strings)\n",
    "\n",
    "\n",
    "\n",
    "\n"
   ]
  },
  {
   "cell_type": "markdown",
   "id": "683f798c-d485-4e54-ab02-267eaa0c7d76",
   "metadata": {},
   "source": [
    "Challenge Level:"
   ]
  },
  {
   "cell_type": "markdown",
   "id": "402db081-ea84-42ab-be50-4149e6698e36",
   "metadata": {},
   "source": [
    "31. Write a program to generate a list of prime numbers using the Sieve of Eratosthenes algorithm and list\n",
    "comprehension."
   ]
  },
  {
   "cell_type": "code",
   "execution_count": 17,
   "id": "08970342-b557-4cb7-b56c-4da0728a1822",
   "metadata": {},
   "outputs": [
    {
     "name": "stdin",
     "output_type": "stream",
     "text": [
      "Enter an upper limit for prime numbers:  100\n"
     ]
    },
    {
     "name": "stdout",
     "output_type": "stream",
     "text": [
      "Prime numbers up to 100: [2, 3, 5, 7, 11, 13, 17, 19, 23, 29, 31, 37, 41, 43, 47, 53, 59, 61, 67, 71, 73, 79, 83, 89, 97]\n"
     ]
    }
   ],
   "source": [
    "def sieve_eratosthenes(limit):\n",
    "    sieve = [True] * (limit + 1)\n",
    "    sieve[0:2] = [False, False]  # 0 and 1 are not prime\n",
    "\n",
    "    for current in range(2, int(limit**0.5) + 1):\n",
    "        if sieve[current]:\n",
    "            for multiple in range(current * current, limit + 1, current):\n",
    "                sieve[multiple] = False\n",
    "\n",
    "    primes = [num for num, is_prime in enumerate(sieve) if is_prime]\n",
    "    return primes\n",
    "\n",
    "if __name__ == \"__main__\":\n",
    "    # Input: Upper limit for generating prime numbers\n",
    "    limit = int(input(\"Enter an upper limit for prime numbers: \"))\n",
    "\n",
    "    if limit < 2:\n",
    "        print(\"Prime numbers start from 2 and above.\")\n",
    "    else:\n",
    "        # Generate prime numbers using the Sieve of Eratosthenes\n",
    "        prime_numbers = sieve_eratosthenes(limit)\n",
    "\n",
    "        # Print the list of prime numbers\n",
    "        print(f\"Prime numbers up to {limit}: {prime_numbers}\")"
   ]
  },
  {
   "cell_type": "markdown",
   "id": "7941fbc9-1564-4434-b0aa-b10fce229d30",
   "metadata": {},
   "source": [
    "32. Create a program that generates a list of all Pythagorean triplets up to a specified limit using list\n",
    "comprehension."
   ]
  },
  {
   "cell_type": "code",
   "execution_count": 10,
   "id": "589289d0-3263-4996-93a1-81fbf772de21",
   "metadata": {},
   "outputs": [
    {
     "name": "stdin",
     "output_type": "stream",
     "text": [
      "enter the limit: 20\n"
     ]
    },
    {
     "name": "stdout",
     "output_type": "stream",
     "text": [
      "[(3, 4, 5), (5, 12, 13), (6, 8, 10), (8, 15, 17), (9, 12, 15), (12, 16, 20)]\n"
     ]
    }
   ],
   "source": [
    "def generate_pythagorean_triplets(limit):\n",
    "    \n",
    "    triplets=[(a,b,c) for a in range(1 , limit+1)\n",
    "                      for b in range(a , limit+1)\n",
    "                      for c in range(b , limit+1)\n",
    "                      if (a**2 + b**2 == c**2)]\n",
    "    return triplets\n",
    "    \n",
    "limit=int(input(\"enter the limit:\" ))\n",
    "\n",
    "pythagorean_triplets=generate_pythagorean_triplets(limit)\n",
    "print(pythagorean_triplets)"
   ]
  },
  {
   "cell_type": "markdown",
   "id": "9a2b54d5-626f-4fdc-9eeb-22d74e7d9572",
   "metadata": {},
   "source": [
    "33. Develop a program that generates a list of all possible combinations of two lists using list comprehension."
   ]
  },
  {
   "cell_type": "code",
   "execution_count": 6,
   "id": "0140a6ea-320a-4d81-92da-59eeb29ecac7",
   "metadata": {},
   "outputs": [
    {
     "name": "stdout",
     "output_type": "stream",
     "text": [
      "[(1, 'a'), (1, 'b'), (1, 'c'), (2, 'a'), (2, 'b'), (2, 'c'), (3, 'a'), (3, 'b'), (3, 'c')]\n"
     ]
    }
   ],
   "source": [
    "list1 = [1, 2, 3]\n",
    "list2 = ['a', 'b', 'c']\n",
    "\n",
    "combinations=[(x,y) for x in list1 for y in list2]\n",
    "print(combinations)"
   ]
  },
  {
   "cell_type": "markdown",
   "id": "5ed1b06f-66d6-482c-a1c4-ec1740730c07",
   "metadata": {},
   "source": [
    "34. Write a program that calculates the mean, median, and mode of a list of numbers using list\n",
    "comprehension."
   ]
  },
  {
   "cell_type": "code",
   "execution_count": 1,
   "id": "d35ff9aa-bc91-475f-b789-c19fb8563736",
   "metadata": {},
   "outputs": [
    {
     "name": "stdout",
     "output_type": "stream",
     "text": [
      "Mean: 5.555555555555555\n",
      "Median: 6\n",
      "Mode: [6]\n"
     ]
    }
   ],
   "source": [
    "import statistics\n",
    "from collections import Counter\n",
    "\n",
    "numbers=[2,3,4,5,6,6,7,8,9]\n",
    "\n",
    "mean = sum(numbers)/len(numbers)\n",
    "\n",
    "\n",
    "# Calculate the median using statistics.median() function\n",
    "median= statistics.median(numbers)\n",
    "\n",
    "#We calculate the mode by using the Counter class from the collections module to count the occurrences of each number in the list.\n",
    "count_dict = Counter(numbers)\n",
    "mode = [key for key, value in count_dict.items() if value == max(count_dict.values())]\n",
    "\n",
    "print(\"Mean:\", mean)\n",
    "print(\"Median:\", median)\n",
    "print(\"Mode:\", mode)\n",
    "\n"
   ]
  },
  {
   "cell_type": "markdown",
   "id": "01d90541-e57f-48ea-934a-c60e28626065",
   "metadata": {},
   "source": [
    "35. Create a program that generates Pascal's triangle up to a specified number of rows using list\n",
    "comprehension.\n"
   ]
  },
  {
   "cell_type": "code",
   "execution_count": 11,
   "id": "7afb5870-ca75-48f0-93e4-f325b9642a37",
   "metadata": {},
   "outputs": [
    {
     "name": "stdin",
     "output_type": "stream",
     "text": [
      "enter the number of rows for pascal's triangle: 5\n"
     ]
    },
    {
     "name": "stdout",
     "output_type": "stream",
     "text": [
      "1\n",
      "1 1\n",
      "1 2 1\n",
      "1 3 3 1\n",
      "1 4 6 4 1\n"
     ]
    }
   ],
   "source": [
    "#Pascal's triangle is the triangular array of numbers that begins with 1 on the top and with 1's running down the two sides of a triangle.\n",
    "\n",
    "def generate_pascals_triangle(num_rows):\n",
    "    triangle = []\n",
    "    \n",
    "    for i in range(num_rows):\n",
    "        row =[ 1 if j == 0 or j == i else row[j-1] + row[j] for j in range(i + 1)]\n",
    "        triangle.append(row)\n",
    "    return triangle\n",
    "\n",
    "def print_pascals_triangle(triangle):\n",
    "    for row in triangle:\n",
    "        print(\" \".join(map(str,row)))\n",
    "              \n",
    "if __name__ == \"__main__\": \n",
    "    num_rows=int(input(\"enter the number of rows for pascal's triangle:\"))\n",
    "    if num_rows<1:\n",
    "        print(\"please enter a positive integer:\")\n",
    "                           \n",
    "    else:\n",
    "        pascals_triangle = generate_pascals_triangle(num_rows)  #calling function\n",
    "        print_pascals_triangle(pascals_triangle)"
   ]
  },
  {
   "cell_type": "markdown",
   "id": "b9c36f23-441e-438b-bc25-4447dc5b36b8",
   "metadata": {},
   "source": [
    "36. Develop a program that calculates the sum of the digits of a factorial of numbers from 1 to 5 using list\n",
    "comprehension."
   ]
  },
  {
   "cell_type": "code",
   "execution_count": 20,
   "id": "defc4db4-bc4b-4855-8d46-1ca57af6f746",
   "metadata": {},
   "outputs": [
    {
     "name": "stdout",
     "output_type": "stream",
     "text": [
      "factorial of 1= 1 , sum_of_digits=1\n",
      "factorial of 2= 2 , sum_of_digits=2\n",
      "factorial of 3= 6 , sum_of_digits=6\n",
      "factorial of 4= 24 , sum_of_digits=6\n",
      "factorial of 5= 120 , sum_of_digits=3\n",
      "factorial of 6= 720 , sum_of_digits=9\n"
     ]
    }
   ],
   "source": [
    "def factorial(n):  #Function to calculate the factorial of a number\n",
    "    if n == 0:\n",
    "        return 1\n",
    "    else:\n",
    "        return n*factorial(n-1)\n",
    "    \n",
    "def sum_of_digits(n):  # Calculate the sum of the digits of a number\n",
    "    return sum(int(digit) for digit in str(n))\n",
    "\n",
    "if __name__ == \"__main__\":\n",
    "    numbers=[1,2,3,4,5,6]\n",
    "    \n",
    "    \n",
    "    factorial_results=[factorial(n) for n in numbers] # Calculate factorials using list comprehension\n",
    "    digit_sums=[sum_of_digits(result) for result in factorial_results] # Calculate digit sums using list comprehension\n",
    "\n",
    "    \n",
    "    \n",
    "    for n, digit_sums in zip(numbers,digit_sums):#for loop that iterates over pairs of values from two lists, numbers and digit_sums, using the zip() function. \n",
    "        print(f\"factorial of {n}= {factorial(n)} , sum_of_digits={digit_sums}\")"
   ]
  },
  {
   "cell_type": "markdown",
   "id": "9074f863-e6ae-4a71-b197-14c32903b1eb",
   "metadata": {},
   "source": [
    "37. Write a program that finds the longest word in a sentence using list comprehension"
   ]
  },
  {
   "cell_type": "code",
   "execution_count": 23,
   "id": "77da0b07-0844-4613-971e-9e758300323d",
   "metadata": {},
   "outputs": [
    {
     "name": "stdin",
     "output_type": "stream",
     "text": [
      "enter a sentence: she is in the classroom\n"
     ]
    },
    {
     "name": "stdout",
     "output_type": "stream",
     "text": [
      "The longest word in the sentence is: classroom\n"
     ]
    }
   ],
   "source": [
    "def find_longest_word(sentence):\n",
    "    words = sentence.split()  #Split the sentence into words\n",
    "# we have a list of words and their lengths stored as tuples. The max() function finds the tuple with the maximum length based on the key lambda x: x[1], which extracts the length. Finally, [0] is used to get the word (the first element of the maximum tuple), which is the longest word in the list.\n",
    "    longest_word = max([(word, len(word)) for word in words], key=lambda x: x[1])[0]\n",
    "    return longest_word \n",
    "    \n",
    "if __name__ == \"__main__\":\n",
    "    input_sentence=input(\"enter a sentence:\")\n",
    "    longest_word=find_longest_word(input_sentence)  #function call and passes the input_sentence as an argument.\n",
    "    print(f\"The longest word in the sentence is: {longest_word}\")"
   ]
  },
  {
   "cell_type": "markdown",
   "id": "3faa1943-48e3-4b41-bde0-05cf59c76a4c",
   "metadata": {},
   "source": [
    "38. Create a program that filters a list of strings to include only those with more than three vowels using list \n",
    "comprehension."
   ]
  },
  {
   "cell_type": "code",
   "execution_count": 6,
   "id": "1432292a-4dc1-413d-8aad-2431dcf44734",
   "metadata": {},
   "outputs": [
    {
     "name": "stdout",
     "output_type": "stream",
     "text": [
      "strings with more than 3 vowels:\n",
      "aishwarya\n"
     ]
    }
   ],
   "source": [
    "def count_vowels(string): # Function to count the number of vowels in a string\n",
    "    vowels=\"AEIOUaeiou\"\n",
    "    return sum(1 for char in string if char in vowels)\n",
    "\n",
    "if __name__ == \"__main__\":\n",
    "    \n",
    "    string_list = [\"apple\", \"banana\", \"cherry\", \"date\", \"elephant\", \"grape\",\"aishwarya\"]    # List of strings\n",
    "    \n",
    "    filtered_string=[string for string in string_list if count_vowels(string)>3] # Filter strings with more than three vowels using list comprehension\n",
    "    \n",
    "    print(\"strings with more than 3 vowels:\")  # Print the filtered strings\n",
    "    \n",
    "    for string in filtered_string:\n",
    "        print(string)\n",
    "        \n",
    "      \n",
    "    "
   ]
  },
  {
   "cell_type": "markdown",
   "id": "e8e1a596-1a60-4a29-a233-16e6af8a44fd",
   "metadata": {},
   "source": [
    "39. Develop a program that calculates the sum of the digits of numbers from 1 to 1000 using list \n",
    "comprehension."
   ]
  },
  {
   "cell_type": "code",
   "execution_count": 12,
   "id": "4d5001d1-5b38-4878-94c5-a2343ffbb994",
   "metadata": {},
   "outputs": [
    {
     "name": "stdout",
     "output_type": "stream",
     "text": [
      "The sum of the digits of numbers from 1 to 1000 is: 13501\n"
     ]
    }
   ],
   "source": [
    "def sum_of_digits(n):\n",
    "    return sum(int(digit) for digit in str(n))\n",
    "               \n",
    "if __name__ == \"__main__\":\n",
    "    \n",
    "    numbers = range(1,1001) # Create a range of numbers from 1 to 1000 (inclusive)\n",
    "\n",
    "# Calculate the sum of digits for each number using list comprehension\n",
    "    digit_sums=[sum_of_digits(number) for number in numbers]\n",
    "    \n",
    "               # Calculate the total sum of all digit sums\n",
    "    total_sum = sum(digit_sums)\n",
    "             \n",
    "               \n",
    "    print(f\"The sum of the digits of numbers from 1 to 1000 is: {total_sum}\")"
   ]
  },
  {
   "cell_type": "markdown",
   "id": "81c8be84-802f-41d0-b365-3b17d092ce4c",
   "metadata": {},
   "source": [
    "40. Write a program that generates a list of prime palindromic numbers using list comprehension"
   ]
  },
  {
   "cell_type": "code",
   "execution_count": 18,
   "id": "d08d4548-3a6e-408e-8667-7d5bff849c72",
   "metadata": {},
   "outputs": [
    {
     "name": "stdout",
     "output_type": "stream",
     "text": [
      "prime palindromic numbers from 1 to 1000:\n",
      "[2, 3, 5, 7, 11, 101, 131, 151, 181, 191, 313, 353, 373, 383, 727, 757, 787, 797, 919, 929]\n"
     ]
    }
   ],
   "source": [
    "def is_prime(n):\n",
    "    if n <= 1:\n",
    "        return False\n",
    "    if n <= 3:\n",
    "        return True\n",
    "    if n%2 == 0 or n%3 == 0:\n",
    "        return False\n",
    "    \n",
    "    i = 5\n",
    "    \n",
    "    while i * i <= n:\n",
    "        if n % i ==0 or n % (i + 2) == 0:\n",
    "            return False\n",
    "        i +=6\n",
    "    return True\n",
    "\n",
    "# Generate a list of prime palindromic numbers from 1 to 1000 using list comprehension and umbers that are both prime and palindromic in the range from 1 to 1000.\n",
    "prime_palindromes = [ num for num in range(1, 1001) if is_prime(num) and str(num) == str(num)[::-1]]\n",
    "\n",
    "# Print the list of prime palindromic numbers\n",
    "print(\"prime palindromic numbers from 1 to 1000:\")\n",
    "print(prime_palindromes)\n",
    "    \n",
    "    "
   ]
  },
  {
   "cell_type": "code",
   "execution_count": null,
   "id": "d816ea2e-bb39-41ff-8f6f-522826eb1576",
   "metadata": {},
   "outputs": [],
   "source": []
  }
 ],
 "metadata": {
  "kernelspec": {
   "display_name": "Python 3 (ipykernel)",
   "language": "python",
   "name": "python3"
  },
  "language_info": {
   "codemirror_mode": {
    "name": "ipython",
    "version": 3
   },
   "file_extension": ".py",
   "mimetype": "text/x-python",
   "name": "python",
   "nbconvert_exporter": "python",
   "pygments_lexer": "ipython3",
   "version": "3.10.8"
  }
 },
 "nbformat": 4,
 "nbformat_minor": 5
}
